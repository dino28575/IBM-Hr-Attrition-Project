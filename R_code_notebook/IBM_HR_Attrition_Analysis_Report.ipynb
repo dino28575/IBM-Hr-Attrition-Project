{
 "cells": [
  {
   "cell_type": "raw",
   "id": "f0324ce1",
   "metadata": {},
   "source": [
    "---\n",
    "title: \"IBM HR Attrition Analysis\"\n",
    "author: \"Sahib Dino\"\n",
    "date: \"2025-08-14\"\n",
    "output:\n",
    "  html_document:\n",
    "    theme: flatly\n",
    "    toc: true\n",
    "    toc_float: true\n",
    "---"
   ]
  },
  {
   "cell_type": "markdown",
   "id": "464f3755",
   "metadata": {
    "lines_to_next_cell": 0
   },
   "source": [
    "# IBM Atrition Analysis Using R \n",
    "\n",
    "*In this project, I conducted an in-depth attrition analysis for IBM employees, exploring various personal and organizational factors contributing to employee turnover. The analysis examined demographic details, job roles, income levels, work-life balance, and other workplace conditions to identify key patterns and potential causes of attrition. The insights aim to help in developing strategies to improve employee retention and satisfaction.*\n",
    "\n",
    "---"
   ]
  },
  {
   "cell_type": "code",
   "execution_count": null,
   "id": "e0e1d0ce",
   "metadata": {},
   "outputs": [],
   "source": [
    "library(tidyverse)\n",
    "library(tidyr)\n",
    "library(skimr)\n",
    "library(janitor)\n",
    "library(ggplot2)"
   ]
  },
  {
   "cell_type": "markdown",
   "id": "9c9d07e1",
   "metadata": {},
   "source": [
    "## Attrtion Insight : Personal Factors\n",
    "In the first phase of the analysis, I focused on personal factors influencing attrition, examining trends across age groups, gender, and marital status. This helped identify which demographic segments were more likely to leave, providing insights into targeted retention strategies."
   ]
  },
  {
   "cell_type": "code",
   "execution_count": null,
   "id": "8fade69d",
   "metadata": {},
   "outputs": [],
   "source": [
    "Employee_detail1 <- read_csv(\"Ed.csv\")\n",
    "\n",
    "Employee_detail <- Employee_detail1 %>%\n",
    "  distinct() %>%\n",
    "  drop_na()\n",
    "\n",
    "head(Employee_detail)\n",
    "glimpse(Employee_detail)\n"
   ]
  },
  {
   "cell_type": "markdown",
   "id": "7a0ae749",
   "metadata": {},
   "source": [
    "This simple code imports the dataset, removes duplicate records, drops missing values, and displays the first few cleaned rows for analysis."
   ]
  },
  {
   "cell_type": "code",
   "execution_count": null,
   "id": "34705ee6",
   "metadata": {},
   "outputs": [],
   "source": [
    "Gender_Wise <- Employee_detail %>%\n",
    "  group_by(Gender) %>%\n",
    "  summarise(\n",
    "    total_employee = n(),\n",
    "    attritions = sum(Attrition == \"TRUE\"),\n",
    "    Attrition_rate = attritions / total_employee * 100\n",
    "  )\n",
    "\n",
    "glimpse(Gender_Wise)\n",
    "\n",
    "ggplot(data = Gender_Wise) +\n",
    "  geom_bar(mapping = aes(x = Gender, y = Attrition_rate , fill = Gender), stat = \"identity\") + \n",
    "  geom_text(aes(x = Gender, y = Attrition_rate, \n",
    "                label = paste0(round(Attrition_rate, 2), \"%\")), \n",
    "            vjust = -0.5, size = 4, fontface = \"bold\", show.legend = FALSE) +\n",
    "  labs(title = \"Attrition Rate by Gender\", \n",
    "       y = \"Attrition Rate (%)\", \n",
    "       x = \"Gender\") +\n",
    "  theme_minimal() + \n",
    "  theme(plot.title = element_text(face = \"bold\", size = 16, colour = \"lightblue\"),\n",
    "        axis.title = element_text(face = \"bold\", size = 12),\n",
    "        axis.text = element_text(face = \"bold\"))\n"
   ]
  },
  {
   "cell_type": "markdown",
   "id": "79babdbf",
   "metadata": {},
   "source": [
    "This section of the analysis begins by transforming and preparing the dataset for exploration. Using data manipulation functions, the raw employee records are filtered, grouped, and summarized to focus on gender-based attrition trends. After the transformation, ggplot2 is used to visualize the relationship between gender and attrition rates, making it easier to identify patterns at a glance.\n",
    "\n",
    "_The visualization revealed that male employees in this dataset show a higher attrition rate compared to female employees, indicating a gender-related difference in turnover patterns._'"
   ]
  },
  {
   "cell_type": "code",
   "execution_count": null,
   "id": "08d275b2",
   "metadata": {},
   "outputs": [],
   "source": [
    "Age_wise <- Employee_detail %>%\n",
    "  group_by(Age) %>%\n",
    "  summarise(total_employee = n(),\n",
    "            attritions = sum(Attrition==\"TRUE\"),\n",
    "            Attrition_rate = attritions/total_employee*100)\n",
    "\n",
    "glimpse(Age_wise)\n",
    "\n",
    "ggplot(data = Age_wise) +\n",
    "  geom_histogram(mapping = aes(x = Age, y = Attrition_rate),\n",
    "                 stat = \"identity\", bins = 40, fill = \"blue\", color= \"black\") +\n",
    "  labs(title = \"Attrition rate per Age\", x = \"Age\", y = \"Attrition Rate(%)\") +\n",
    "  theme_minimal() + \n",
    "  theme(plot.title = element_text(face = \"bold\", size = 16),\n",
    "        axis.title = element_text(face = \"bold\", size = 12))\n",
    "\n",
    "Marital_wise <- Employee_detail %>%\n",
    "  group_by(MaritalStatus) %>%\n",
    "  summarise(total_employee = n(),\n",
    "            attritions = sum(Attrition==\"TRUE\"),\n",
    "            Attrition_rate = attritions/total_employee*100)\n",
    "glimpse(Marital_wise)\n",
    "\n",
    "ggplot(Marital_wise, aes(x = reorder(MaritalStatus, Attrition_rate), y = Attrition_rate)) +\n",
    "  geom_segment(mapping = aes(xend = MaritalStatus, y = 5, yend = Attrition_rate), \n",
    "               size = 2, color = \"grey\") +\n",
    "  geom_point(size = 6, color = \"#f50538\") +\n",
    "  geom_text(aes(label = paste0(round(Attrition_rate, 1), \"%\")),\n",
    "            vjust = -1.1,size = 3,fontface = \"bold\") +\n",
    "  labs(title = \"Attrition Rate by Marital Status\",\n",
    "       x = \"Marital Status\", y = \"Attrition Rate (%)\") +\n",
    "  theme_light()+ \n",
    "  theme(plot.title = element_text(face = \"bold\",size = 16 ),axis.title = element_text(face = \"bold\",size = 12),axis.text=element_text(face = \"bold\"))\n"
   ]
  },
  {
   "cell_type": "markdown",
   "id": "2f642b7e",
   "metadata": {},
   "source": [
    "*I further analyzed and transformed the data to study attrition patterns by age and marital status.* \n",
    "\n",
    "**The age-wise analysis showed that younger employees in the dataset had a higher attrition rate. This may be because many of them are hired as interns or are in the early stages of their careers, making them more likely to explore other opportunities.**\n",
    "\n",
    "**The marital status analysis indicated that divorced and married employees had comparatively lower attrition rates, which may be due to a greater need for job stability, whereas single employees, with fewer family commitments, showed relatively higher turnover.**\n",
    "\n",
    "## Attrition Trends Across Job Factors\n",
    "\n",
    "*In the second part of the analysis, I examined job-related factors such as department, job role, job level, business travel, and distance from home.*"
   ]
  },
  {
   "cell_type": "code",
   "execution_count": null,
   "id": "21897368",
   "metadata": {},
   "outputs": [],
   "source": [
    "Jd <- read_csv(\"Job.csv\")\n",
    "\n",
    "glimpse(Jd)\n",
    "\n",
    "Job_detail <- Jd %>%\n",
    "  distinct() %>%\n",
    "  drop_na()\n",
    "\n",
    "glimpse(Job_detail)\n",
    "## Attrition Department wise \n",
    "\n",
    "Department_Wise <- Job_detail %>%\n",
    "  group_by(Department) %>%\n",
    "  summarise(total_employee = n(),Attritions = sum(Attrition == TRUE),Attrition_rate=Attritions/total_employee*100)\n",
    "\n",
    "glimpse(Department_Wise)\n",
    "\n",
    "ggplot(data = Department_Wise) + geom_col(mapping = aes(reorder(Department,Attrition_rate),y=Attrition_rate,fill= Department)) +\n",
    "  geom_text(mapping = aes(reorder(Department,Attrition_rate),y=Attrition_rate,label=paste0(round(Attrition_rate,1),\"%\")),vjust = -0.2, fontface = \"bold\") +\n",
    "  labs(title = \"Attrition Rate By Department\",x=\"Department\",y=\"Attrition Rate (%)\") + theme_minimal() + \n",
    "  theme(plot.title = element_text(face = \"bold\",size=16),axis.title=element_text(face =\"bold\",size= 12))\n"
   ]
  },
  {
   "cell_type": "markdown",
   "id": "b4c2a274",
   "metadata": {},
   "source": [
    "*I first organized and transformed the dataset to calculate attrition rates across different departments.*\n",
    "\n",
    "> **The results showed that the Sales department had the highest attrition rate, which may be linked to the higher stress levels often associated with consumer-facing roles, such as meeting sales targets and handling client interactions.** \n",
    "\n",
    " > **In contrast, the Research and Development department recorded the lowest attrition rate, possibly due to the nature of work involving long-term projects, structured deadlines, and comparatively less direct interaction with consumers.**"
   ]
  },
  {
   "cell_type": "code",
   "execution_count": null,
   "id": "3577138e",
   "metadata": {},
   "outputs": [],
   "source": [
    "## Attrition job role wise\n",
    "\n",
    "Role_Wise <- Job_detail %>%\n",
    "  group_by(JobRole) %>%\n",
    "  summarise(total_employee = n(),Attritions = sum(Attrition == TRUE),Attrition_rate=Attritions/total_employee*100)\n",
    "\n",
    "glimpse(Role_Wise)\n",
    "\n",
    "ggplot(Role_Wise,aes(reorder(JobRole,Attrition_rate),y=Attrition_rate))+\n",
    "  geom_segment(aes(xend=JobRole,y=0,yend=Attrition_rate),color =\"blue\",size=1.5) + \n",
    "  geom_point(size =5 , color = \"red\") +\n",
    "  labs(title = \"Attrition Rate By Job Role\",x=\"Job Role\", y = \"Attrition Rate (%)\") +\n",
    "  theme_minimal() + \n",
    "  theme(plot.title = element_text(face = \"bold\",size = 16),axis.title =element_text(face = \"bold\",size =12),axis.text.x=element_text(face= \"bold\",angle =30 , hjust =1))\n",
    "\n",
    "## Job level vs Attrition \n",
    "\n",
    "Job_wise <- Job_detail %>%\n",
    "  group_by(JobLevel) %>%\n",
    "  summarize (total_employee=n(), Attritions = sum(Attrition==TRUE), Attrition_rate=Attritions/total_employee*100)\n",
    "\n",
    "glimpse(Job_wise)\n",
    "\n",
    "ggplot(Job_wise,aes(x=reorder(JobLevel, Attrition_rate),y=Attrition_rate, size = Attrition_rate,fill = JobLevel))+\n",
    "  geom_bar(stat = \"identity\") +\n",
    "  scale_fill_viridis_b() +\n",
    "  labs(title=\"Attrition Rate by Job Level\",x=\"Job Level\",y= \"Attrition Rate(%)\", size=\"Attrition Rate\",color=\"Job Level\") +\n",
    "  theme_minimal() +\n",
    "  theme(plot.title = element_text(face=\"bold\", size=16),axis.title = element_text(face=\"bold\", size=12),axis.text =element_text(face=\"bold\"),legend.title  = element_text(face = \"bold\")) \n"
   ]
  },
  {
   "cell_type": "markdown",
   "id": "2366a756",
   "metadata": {},
   "source": [
    "I organized and analyzed the dataset to examine attrition patterns across different job roles and job levels. \n",
    "\n",
    ">**The job role analysis showed that positions such as Sales Representative and Laboratory Technician had notably higher attrition rates. These roles are typically associated with lower job levels, which was further confirmed by the job level analysis.**\n",
    "\n",
    ">**The job level results indicated that levels 1 to 3—which include such roles—had the highest attrition rates, while levels 4 and 5 (covering senior positions like managers and directors) had the lowest. This trend may be influenced by factors such as lower pay and reduced job security in lower-level positions.**"
   ]
  },
  {
   "cell_type": "code",
   "execution_count": null,
   "id": "8225e59a",
   "metadata": {},
   "outputs": [],
   "source": [
    "## Attrition vs business travel \n",
    "\n",
    "Travel_Wise <- Job_detail %>%\n",
    "  group_by(BusinessTravel) %>%\n",
    "  summarise(total_employee = n(),Attritions = sum(Attrition == TRUE),Attrition_Rate = Attritions/total_employee*100)\n",
    "\n",
    "glimpse(Travel_Wise)\n",
    "\n",
    "ggplot(Travel_Wise , aes (x = reorder(BusinessTravel, Attrition_Rate),y = Attrition_Rate, fill = BusinessTravel)) + \n",
    "  geom_bar(stat= \"identity\") +\n",
    "  coord_flip() +\n",
    "  labs(title = \"Attrition Rate  By Business Travel \", x = \"Business Travel\", y = \"Attrition Rate (%)\",fill = \"Business Travel\") +\n",
    "  geom_text(aes (x = reorder(BusinessTravel, Attrition_Rate),y = Attrition_Rate,label=paste0(round(Attrition_Rate,1),\"%\")),hjust = -0.3, fontface = \"bold\",color = \"black\") +\n",
    "  scale_fill_ordinal(labels = c(\"Non-Travel\" = \"No Travel\", \"Travel_Frequently\" = \"Too Much Travel\", \"Travel_Rarely\" = \"Rarely Travel\"))  +\n",
    "  scale_x_discrete(labels = c(\"Non-Travel\" = \"No Travel\", \"Travel_Frequently\" = \"Too Much Travel\", \"Travel_Rarely\" = \"Rarely Travel\")) +\n",
    "  theme_minimal() +\n",
    "  theme(plot.title = element_text(face = \"bold\",size = 16 ),axis.title = element_text(face=\"bold\",size = 12),axis.text = element_text(face = \"bold\") )\n",
    "\n",
    "## Attrition vs. Distance From Home \n",
    "\n",
    "Distance_Wise <- Job_detail %>%\n",
    "  group_by(DistanceFromHome) %>%\n",
    "  summarise(total_employee = n(),Attritions = sum(Attrition == TRUE),Attrition_Rate = round(Attritions/total_employee*100,2))\n",
    "\n",
    "glimpse(Distance_Wise)\n",
    "\n",
    "ggplot(Distance_Wise , aes(x= DistanceFromHome,y=Attrition_Rate,size = Attrition_Rate,color = DistanceFromHome)) +\n",
    "  geom_point()  +\n",
    "  scale_colour_viridis_b() +\n",
    "  labs (title = \"Attrition By Distance From Home\",x=\"Distance From Home\",y=\"Attrition Rate\",color = \"Distance\",size=\"Attrition Rate\") +\n",
    "  theme_light() +\n",
    "  theme(plot.title = element_text(face = \"bold\",size = 16,color = \"orange\"),axis.title = element_text(face = \"bold\", size = 12))"
   ]
  },
  {
   "cell_type": "markdown",
   "id": "d3283356",
   "metadata": {},
   "source": [
    "I organized and analyzed the dataset to study the impact of business travel and distance from home on attrition rates.\n",
    "\n",
    ">**For business travel, the results showed that employees who traveled more frequently for work had higher attrition rates. This may be due to the demands of fieldwork and spending extended periods away from home, which can affect work–life balance and increase stress levels.**\n",
    "\n",
    ">**For distance from home, there was no perfectly regular pattern across all distances. However, when the data was grouped into three ranges 0–10 km, 10–20 km, and 20–30 km—employees living far away (10–30 km range) had the highest attrition rate. A possible reason could be longer commuting times leading to greater fatigue and reduced job satisfaction.**"
   ]
  },
  {
   "cell_type": "markdown",
   "id": "1d642c09",
   "metadata": {},
   "source": [
    "## Attrition by Job Compensation\n",
    "\n",
    "*In the third section, I used a pre-organized dataset (prepared in Excel) to analyze the effect of monthly income on attrition.*"
   ]
  },
  {
   "cell_type": "code",
   "execution_count": null,
   "id": "8e11b23d",
   "metadata": {},
   "outputs": [],
   "source": [
    "## Attrition BY job compensation\n",
    "Job_Comp <- read_csv(\"Job_income.csv\")\n",
    "\n",
    "glimpse(Job_Comp)\n",
    "\n",
    "ggplot(Job_Comp,aes(x=\"\",y=Attrition_Rate,fill = Monthly_Income)) +\n",
    "  geom_col() +\n",
    "  coord_polar(\"y\") +\n",
    "  geom_text(aes(label = paste0(Attrition_Rate, \"%\")),position = position_stack(vjust = 0.5) , fontface = \"bold\",color = \"white\",size = 4) +\n",
    "  labs(title = \"Attrition By Income\",x =\"Income\",y=\"Attrition Rate(%)\",fill = \"Monthly Income\") +\n",
    "  scale_fill_manual(values = c(\"#092c5c\", \"#ff3232\", \"#f5d130\"))+\n",
    "  theme_light() +\n",
    "  theme(plot.title = element_text(face= \"bold\",size =16),axis.title = element_text(face= \"bold\",size =12),axis.text = element_blank(),panel.grid = element_blank())\n"
   ]
  },
  {
   "cell_type": "markdown",
   "id": "397c571f",
   "metadata": {},
   "source": [
    ">**The results showed that employees earning between $1,000 and $2,500 contributed to more than 50% of total attritions. A possible explanation is that lower salaries may lead to reduced job satisfaction, higher financial pressure, and a stronger motivation to seek better-paying opportunities elsewhere.**\n",
    "\n",
    "##Attrition Trends by Satisfaction & Work–Life Balance\n",
    "\n",
    "*In the last section, I transformed, organized, and analyzed the dataset to study the relationship between Job Satisfaction Score (JSS), work–life balance, and attrition.*"
   ]
  },
  {
   "cell_type": "code",
   "execution_count": null,
   "id": "9d9ce3bc",
   "metadata": {},
   "outputs": [],
   "source": [
    "# satisfaction score vs Attrition \n",
    "Sts <- read_csv(\"Sat_score.csv\")\n",
    "\n",
    "glimpse(Sts)\n",
    "\n",
    "sat_score <- Sts %>%\n",
    "  distinct()\n",
    "\n",
    "glimpse(sat_score)\n",
    "\n",
    "## Job satisfaction vs Attrition\n",
    "\n",
    "Jsat_Wise <- sat_score %>%\n",
    "  group_by(JobSatisfaction) %>%\n",
    "  summarise(total_employee = n(),Attritions = sum(Attrition == TRUE),Attrition_Rate = round(Attritions/total_employee*100,2))\n",
    "\n",
    "glimpse(Jsat_Wise)\n",
    "\n",
    "ggplot(Jsat_Wise,aes(x=\"\",y = Attrition_Rate, fill = JobSatisfaction))+\n",
    "  geom_col(width = .25) + \n",
    "  scale_fill_gradient2() +\n",
    "  coord_flip() +\n",
    "  geom_text(aes(label = paste0(Attrition_Rate,\"%\")),position = position_stack(vjust = 0.5) , fontface = \"bold\",color = \"white\",size = 4) +\n",
    "  labs(title = \"Attrition By Job Satisfaction\" ,x = \"Job Satisfaction\",y = \"Attrition Rate (%)\",fill = \"Job Satisfaction Score\") +\n",
    "  theme(plot.title = element_text(face= \"bold\",size =16,color = \"#ffa600\"),axis.title = element_text(face= \"bold\",size =12))\n",
    "\n",
    "## Attrition vs work life \n",
    "\n",
    "Wlb_Wise <- sat_score %>%\n",
    "  group_by(WorkLifeBalance) %>%\n",
    "  summarise(total_employee = n(),Attritions = sum(Attrition == TRUE),Attrition_Rate = round(Attritions/total_employee*100,2))\n",
    "\n",
    "glimpse(Wlb_Wise)\n",
    "\n",
    "ggplot(Wlb_Wise,aes(x=WorkLifeBalance ,y=Attrition_Rate)) +\n",
    "  geom_segment(aes(xend=WorkLifeBalance,y=0,yend=Attrition_Rate),color =\"#1982c4\",size=1.5) + \n",
    "  geom_point(size =6 , color = \"yellow\") +\n",
    "  geom_text(aes(WorkLifeBalance,y=Attrition_Rate,label = paste0(round(Attrition_Rate,1),\"%\")),vjust = -1.0,fontface = \"bold\",size =3 , color = \"black\") +\n",
    "  labs(title = \"Attriton By Work life Balance\",x=\"Work Life Balance Score\", y = \"Attrition Rate (%)\") +\n",
    "  theme_light() +\n",
    "  theme(plot.title = element_text(face= \"bold\",size =16,color = \"#ffa600\"),axis.title = element_text(face= \"bold\",size =12))\n"
   ]
  },
  {
   "cell_type": "markdown",
   "id": "eac7fe75",
   "metadata": {},
   "source": [
    ">**The findings showed that employees with higher job satisfaction scores had lower attrition rates, while those with lower scores were more likely to leave.**\n",
    "\n",
    ">**A similar trend was observed for work–life balance, where higher scores correlated with better retention. This suggests that when employees feel satisfied in their roles and are able to maintain a healthy balance between work and personal life, they are more likely to remain with the organization.**"
   ]
  },
  {
   "cell_type": "markdown",
   "id": "f2d365af",
   "metadata": {},
   "source": [
    "## Turning Insights into Retention: Conclusion & Recommendations\n",
    "\n",
    ">Conclusion & Key Findings\n",
    "\n",
    "This IBM attrition analysis explored personal, demographic, and job-related factors influencing employee turnover.\n",
    "Key findings include:\n",
    "\n",
    "**Personal Factors:** Younger employees and single employees showed higher attrition rates compared to older and married/divorced employees.\n",
    "\n",
    "**Department & Role:** Sales and certain lower-level roles (e.g., Sales Representative, Laboratory Technician) had the highest attrition rates, while Research & Development and senior roles had the lowest.\n",
    "\n",
    "**Job Factors:** Frequent business travel and long commuting distances (10–30 km) were linked to higher attrition.\n",
    "\n",
    "**Compensation:** Employees earning between $1,000 and $2,500 accounted for over 50% of total attrition.\n",
    "\n",
    "**Satisfaction & Balance:** Higher Job Satisfaction Scores (JSS) and better work–life balance strongly correlated with lower turnover.\n",
    "\n",
    ">**Suggestions**\n",
    "\n",
    "-**Targeted Retention for High-Risk Groups: Offer clear career development paths and mentorship programs for younger employees and those in entry-level roles.**                      \n",
    "\n",
    "-**Reduce Workload Pressure in Sales: Provide stress management support, training, and realistic performance targets.**\n",
    "\n",
    "-**Improve Compensation Competitiveness: Review pay scales for lower-income brackets to reduce financial-driven turnover.**\n",
    "\n",
    "-**Enhance Work–Life Balance: Offer flexible working arrangements or remote work options for employees with long commutes or heavy travel schedules.**\n",
    "\n",
    "-**Boost Job Satisfaction: Strengthen recognition programs, feedback systems, and opportunities for skill growth.**\n",
    "\n",
    "**By addressing these factors, IBM can strengthen employee engagement, improve retention rates, and reduce the costs associated with high turnover.**"
   ]
  }
 ],
 "metadata": {
  "jupytext": {
   "cell_metadata_filter": "-all",
   "main_language": "R",
   "notebook_metadata_filter": "-all"
  }
 },
 "nbformat": 4,
 "nbformat_minor": 5
}
